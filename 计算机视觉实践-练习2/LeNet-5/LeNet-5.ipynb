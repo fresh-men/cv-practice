{
 "cells": [
  {
   "cell_type": "code",
   "execution_count": 40,
   "id": "c0bc94f9-f9f8-40c5-9807-a3e21cc4d53f",
   "metadata": {},
   "outputs": [],
   "source": [
    "import torch\n",
    "import torch.nn as nn\n",
    "import torch.nn.functional as F\n",
    "import torch.optim as optim\n",
    "from torchvision import datasets, transforms\n",
    "import time\n",
    "from matplotlib import pyplot as plt"
   ]
  },
  {
   "cell_type": "code",
   "execution_count": 41,
   "id": "4850476e-8c74-4a56-b7fb-263a42a1dd10",
   "metadata": {},
   "outputs": [],
   "source": [
    "# 训练集图像预处理、旋转图片、resize、正则化等操作\n",
    "preprocess_train = transforms.Compose([\n",
    "    transforms.RandomHorizontalFlip(),\n",
    "    transforms.Resize((32,32)),\n",
    "    transforms.ToTensor(),\n",
    "    transforms.Normalize((0.1307,),(0.3081,))    \n",
    "])\n",
    "# 测试集图像预处理resize、正则化等操作\n",
    "preprocess_test = transforms.Compose([\n",
    "    transforms.Resize((32,32)),\n",
    "    transforms.ToTensor(),\n",
    "    transforms.Normalize((0.1307,),(0.3081,))\n",
    "])\n",
    "# 下载数据集\n",
    "train_set = datasets.MNIST(root=\"./data\", train=True, download=False, transform=preprocess_train)\n",
    "test_set = datasets.MNIST(root=\"./data\", train=False, download=False, transform=preprocess_test)\n",
    "# 加载数据集\n",
    "train_loader = torch.utils.data.DataLoader(train_set, batch_size=64, shuffle=True)\n",
    "test_loader = torch.utils.data.DataLoader(test_set, batch_size=32, shuffle=False)"
   ]
  },
  {
   "cell_type": "code",
   "execution_count": 42,
   "id": "f6802c96-6002-4baf-a6d0-bc5c6932d0cc",
   "metadata": {},
   "outputs": [],
   "source": [
    "class LeNet(nn.Module):\n",
    "    def __init__(self):\n",
    "        super(LeNet, self).__init__()\n",
    "        self.conv1 = nn.Conv2d(1, 6, 5)  # 卷积层\n",
    "        self.Sigmoid = nn.Sigmoid()  # Sigmoid\n",
    "        self.maxpool1 = nn.MaxPool2d(2, 2)  # 最大池化层\n",
    "        self.conv2 = nn.Conv2d(6, 16, 5)\n",
    "        self.maxpool2 = nn.MaxPool2d(2, 2)\n",
    "        self.fc1 = nn.Linear(16*5*5, 120)  # 全连接\n",
    "        self.fc2 = nn.Linear(120, 84)\n",
    "        self.fc3 = nn.Linear(84, 10)\n",
    " \n",
    "    def forward(self, x):\n",
    "        x = self.conv1(x)  # C1\n",
    "        x = self.Sigmoid(x)\n",
    "        x = self.maxpool1(x)  # S2\n",
    "        x = self.conv2(x)  # C3\n",
    "        x = self.maxpool2(x)  # S4\n",
    "        x = x.view(-1, 16*5*5)\n",
    "        x = F.relu(self.fc1(x))  # C5\n",
    "        x = F.relu(self.fc2(x))  # F6\n",
    "        x = self.fc3(x)  \n",
    "        output = F.log_softmax(x, dim=1)  # output\n",
    "        return output"
   ]
  },
  {
   "cell_type": "code",
   "execution_count": 43,
   "id": "0475276a-c945-4304-aa04-1c9594bea16a",
   "metadata": {},
   "outputs": [],
   "source": [
    "# 创建模型、定义优化器\n",
    "device = torch.device(\"cuda\" if torch.cuda.is_available() else \"cpu\")\n",
    "model = LeNet().to(device)\n",
    "optimizer = optim.Adam(model.parameters(), lr=0.001)"
   ]
  },
  {
   "cell_type": "code",
   "execution_count": 44,
   "id": "59c2c551-6a46-49c7-a10b-b85f3329eb12",
   "metadata": {},
   "outputs": [],
   "source": [
    "def train(model, device, train_loader, optimizer, epoch):\n",
    "    # 训练模型\n",
    "    model.train()\n",
    "    total = 0\n",
    "    correct =0.0\n",
    "    \n",
    "    for iter, data in enumerate(train_loader, 0):\n",
    "        inputs, labels = data\n",
    "        inputs, labels = inputs.to(device), labels.to(device)\n",
    "        # 初始化梯度\n",
    "        optimizer.zero_grad()\n",
    "        outputs = model(inputs)\n",
    "        # 计算损失和\n",
    "        loss = F.cross_entropy(outputs, labels)\n",
    "        # 获取预测结果\n",
    "        predict = outputs.argmax(dim=1)\n",
    "        total += labels.size(0)\n",
    "        correct += (predict == labels).sum().item()\n",
    "        # 反向传播\n",
    "        loss.backward()\n",
    "        optimizer.step()\n",
    "        if iter % 1000 == 0:\n",
    "            print(\"Train Epoch{} \\t Loss: {:.6f}, accuracy: {:.6f}%\".format(epoch, loss.item(), 100*(correct/total)))\n",
    "            Loss.append(loss.item())\n",
    "            Accuracy.append(correct/total)\n",
    "    return loss.item(), correct/total"
   ]
  },
  {
   "cell_type": "code",
   "execution_count": 45,
   "id": "ea5af177-b284-40a6-9ef9-cb4da76c1e73",
   "metadata": {},
   "outputs": [],
   "source": [
    "# 模型测试\n",
    "def test(model, device, test_loader):\n",
    "    model.eval()\n",
    "    correct = 0.0\n",
    "    test_loss = 0.0\n",
    "    total = 0\n",
    "    with torch.no_grad():\n",
    "        for data, label in test_loader:\n",
    "            data, label = data.to(device), label.to(device)\n",
    "            output = model(data)\n",
    "            # 计算损失值\n",
    "            test_loss += F.cross_entropy(output, label).item()\n",
    "            predict = output.argmax(dim=1)\n",
    "            # 计算正确数量\n",
    "            total += label.size(0)\n",
    "            correct += (predict == label).sum().item()\n",
    "        \n",
    "        print(\"loss: {:.6f}, accuracy: {:.6f}%\".format(test_loss/total, 100*(correct/total)))"
   ]
  },
  {
   "cell_type": "code",
   "execution_count": 46,
   "id": "37fd3f6b-3bca-4824-9756-a1ab93d55cac",
   "metadata": {},
   "outputs": [
    {
     "name": "stdout",
     "output_type": "stream",
     "text": [
      "Train Epoch1 \t Loss: 2.293072, accuracy: 10.937500%\n",
      "loss: 0.006508, accuracy: 93.640000%\n",
      "Train Epoch2 \t Loss: 0.257832, accuracy: 93.750000%\n",
      "loss: 0.003431, accuracy: 96.540000%\n",
      "Train Epoch3 \t Loss: 0.124057, accuracy: 95.312500%\n",
      "loss: 0.002917, accuracy: 97.260000%\n",
      "Train Epoch4 \t Loss: 0.046330, accuracy: 98.437500%\n",
      "loss: 0.002195, accuracy: 97.740000%\n",
      "Train Epoch5 \t Loss: 0.044660, accuracy: 96.875000%\n",
      "loss: 0.002499, accuracy: 97.430000%\n"
     ]
    },
    {
     "data": {
      "image/png": "[encoded data removed]",
      "text/plain": [
       "<Figure size 640x480 with 1 Axes>"
      ]
     },
     "metadata": {},
     "output_type": "display_data"
    },
    {
     "data": {
      "image/png": "[encoded data removed]",
      "text/plain": [
       "<Figure size 640x480 with 1 Axes>"
      ]
     },
     "metadata": {},
     "output_type": "display_data"
    }
   ],
   "source": [
    "epoch = 5\n",
    "Loss = []\n",
    "Accuracy = []\n",
    "for epoch in range(1, epoch+1):\n",
    "    loss, acc = train(model, device, train_loader, optimizer, epoch)\n",
    "    Loss.append(loss)\n",
    "    Accuracy.append(acc)\n",
    "    test(model, device, test_loader)\n",
    "\n",
    "# 可视化输出\n",
    "plt.subplot(2,1,1)\n",
    "plt.plot(Loss)\n",
    "plt.title('Loss')\n",
    "plt.show()\n",
    "plt.subplot(2,1,2)\n",
    "plt.plot(Accuracy)\n",
    "plt.title('Accuracy')\n",
    "plt.show()"
   ]
  },
  {
   "cell_type": "code",
   "execution_count": 47,
   "id": "e6a93bc8-ec65-45f2-9f07-b9b225c77801",
   "metadata": {},
   "outputs": [
    {
     "name": "stdout",
     "output_type": "stream",
     "text": [
      "LeNet(\n",
      "  (conv1): Conv2d(1, 6, kernel_size=(5, 5), stride=(1, 1))\n",
      "  (Sigmoid): Sigmoid()\n",
      "  (maxpool1): MaxPool2d(kernel_size=2, stride=2, padding=0, dilation=1, ceil_mode=False)\n",
      "  (conv2): Conv2d(6, 16, kernel_size=(5, 5), stride=(1, 1))\n",
      "  (maxpool2): MaxPool2d(kernel_size=2, stride=2, padding=0, dilation=1, ceil_mode=False)\n",
      "  (fc1): Linear(in_features=400, out_features=120, bias=True)\n",
      "  (fc2): Linear(in_features=120, out_features=84, bias=True)\n",
      "  (fc3): Linear(in_features=84, out_features=10, bias=True)\n",
      ")\n"
     ]
    }
   ],
   "source": [
    "print(model)\n",
    "torch.save(model, 'model.pth') #保存模型"
   ]
  },
  {
   "cell_type": "code",
   "execution_count": 49,
   "id": "18668036-1fdf-4988-93d5-942770007ee6",
   "metadata": {},
   "outputs": [
    {
     "data": {
      "image/png": "[encoded data removed]",
      "text/plain": [
       "<Figure size 640x480 with 1 Axes>"
      ]
     },
     "metadata": {},
     "output_type": "display_data"
    },
    {
     "name": "stdout",
     "output_type": "stream",
     "text": [
      "预测类别： 5\n"
     ]
    }
   ],
   "source": [
    "import cv2\n",
    "\n",
    "if __name__ == '__main__':\n",
    "    device = torch.device('cuda' if torch.cuda.is_available() else 'cpu')\n",
    "    model = torch.load('model.pth') #加载模型\n",
    "    model = model.to(device)\n",
    "    model.eval()    \n",
    "    \n",
    "    # 读取要预测的图片\n",
    "    image = cv2.imread(\"./test_image.jpg\")\n",
    "    image=cv2.resize(image, dsize=(32,32),interpolation=cv2.INTER_NEAREST)\n",
    "    plt.imshow(image,cmap=\"gray\") \n",
    "    plt.axis('off') \n",
    "    plt.show()\n",
    "    \n",
    "    # 导入图片\n",
    "    trans = transforms.Compose(\n",
    "        [\n",
    "            transforms.ToTensor(),\n",
    "            transforms.Normalize((0.1307,), (0.3081,))\n",
    "        ])\n",
    "    image = cv2.cvtColor(image, cv2.COLOR_BGR2GRAY)  # 图片转为灰度图\n",
    "    image = trans(image)\n",
    "    image = image.to(device)\n",
    "    image = image.unsqueeze(0) \n",
    "    \n",
    "    # 预测 \n",
    "    output = model(image)\n",
    "    prob = F.softmax(output,dim=1)\n",
    "    value, predicted = torch.max(output.data, 1)\n",
    "    predict = output.argmax(dim=1)\n",
    "    print(\"预测类别：\",predict.item())"
   ]
  }
 ],
 "metadata": {
  "kernelspec": {
   "display_name": "pt",
   "language": "python",
   "name": "python3"
  },
  "language_info": {
   "codemirror_mode": {
    "name": "ipython",
    "version": 3
   },
   "file_extension": ".py",
   "mimetype": "text/x-python",
   "name": "python",
   "nbconvert_exporter": "python",
   "pygments_lexer": "ipython3",
   "version": "3.8.0"
  }
 },
 "nbformat": 4,
 "nbformat_minor": 5
}
